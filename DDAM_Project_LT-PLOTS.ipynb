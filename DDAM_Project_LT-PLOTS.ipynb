{
 "cells": [
  {
   "cell_type": "markdown",
   "id": "different-flavor",
   "metadata": {
    "scrolled": false
   },
   "source": [
    "# Data visualization"
   ]
  },
  {
   "cell_type": "code",
   "execution_count": 1,
   "id": "passive-berkeley",
   "metadata": {},
   "outputs": [
    {
     "name": "stderr",
     "output_type": "stream",
     "text": [
      "WARNING:root:'PYARROW_IGNORE_TIMEZONE' environment variable was not set. It is required to set this environment variable to '1' in both driver and executor sides if you use pyarrow>=2.0.0. pandas-on-Spark will set it for you but it does not work if there is a Spark context already launched.\n"
     ]
    }
   ],
   "source": [
    "import csv \n",
    "import io\n",
    "import pyspark\n",
    "import pandas as pd\n",
    "import pyspark.pandas as ps\n",
    "from pyspark.sql import SparkSession\n",
    "from pyspark.sql import SQLContext\n",
    "import ast\n",
    "from pyspark.sql.types import *\n",
    "from pyspark.ml.clustering import KMeans\n",
    "from pyspark.ml.feature import VectorAssembler\n",
    "from pyspark.ml.regression import LinearRegression\n",
    "from pyspark.ml import Pipeline\n",
    "from pyspark_dist_explore import hist"
   ]
  },
  {
   "cell_type": "code",
   "execution_count": 2,
   "id": "magnetic-translator",
   "metadata": {},
   "outputs": [],
   "source": [
    "spark = SparkSession.builder \\\n",
    ".master('local[*]') \\\n",
    ".config(\"spark.driver.memory\", \"15g\") \\\n",
    ".appName('My App') \\\n",
    ".getOrCreate()"
   ]
  },
  {
   "cell_type": "markdown",
   "id": "grave-preview",
   "metadata": {},
   "source": [
    "Load units"
   ]
  },
  {
   "cell_type": "code",
   "execution_count": 3,
   "id": "collective-hardwood",
   "metadata": {},
   "outputs": [
    {
     "name": "stderr",
     "output_type": "stream",
     "text": [
      "/usr/lib/python3/dist-packages/numpy/lib/arraysetops.py:568: FutureWarning: elementwise comparison failed; returning scalar instead, but in the future will perform elementwise comparison\n",
      "  mask |= (ar1 == a)\n"
     ]
    }
   ],
   "source": [
    "df=pd.read_csv('data_full_encoded_units.csv', index_col=0).reset_index()"
   ]
  },
  {
   "cell_type": "code",
   "execution_count": 4,
   "id": "junior-massachusetts",
   "metadata": {},
   "outputs": [],
   "source": [
    "df_schema = StructType([StructField(\"index\", StringType(), True),\n",
    "                        StructField(\"levels\", IntegerType(), True),\n",
    "                        StructField(\"units_lst\", StringType(), True)])\n",
    "\n",
    "dfs = spark.createDataFrame(df, schema=df_schema)"
   ]
  },
  {
   "cell_type": "code",
   "execution_count": 5,
   "id": "contemporary-shame",
   "metadata": {
    "scrolled": true
   },
   "outputs": [
    {
     "name": "stdout",
     "output_type": "stream",
     "text": [
      "root\n",
      " |-- index: string (nullable = true)\n",
      " |-- levels: integer (nullable = true)\n",
      " |-- units_lst: string (nullable = true)\n",
      "\n"
     ]
    }
   ],
   "source": [
    "dfs.printSchema()"
   ]
  },
  {
   "cell_type": "code",
   "execution_count": 6,
   "id": "elect-roberts",
   "metadata": {},
   "outputs": [
    {
     "name": "stdout",
     "output_type": "stream",
     "text": [
      "+-----+------+---------+\n",
      "|index|levels|units_lst|\n",
      "+-----+------+---------+\n",
      "|    0|     2|  Nidalee|\n",
      "|    0|     2|    Teemo|\n",
      "|    0|     2|   Irelia|\n",
      "|    0|     2|    Yuumi|\n",
      "|    0|     2|     Jinx|\n",
      "|    0|     2| Katarina|\n",
      "|    0|     2|  Sejuani|\n",
      "|    0|     2|     Shen|\n",
      "|    0|     2|     Azir|\n",
      "|    1|     2|    Elise|\n",
      "+-----+------+---------+\n",
      "only showing top 10 rows\n",
      "\n"
     ]
    }
   ],
   "source": [
    "dfs.show(10)"
   ]
  },
  {
   "cell_type": "code",
   "execution_count": 7,
   "id": "passive-ballot",
   "metadata": {},
   "outputs": [],
   "source": [
    "df_pivot=dfs.groupBy(\"index\").pivot(\"units_lst\").sum(\"levels\")"
   ]
  },
  {
   "cell_type": "code",
   "execution_count": 8,
   "id": "imported-cream",
   "metadata": {
    "scrolled": true
   },
   "outputs": [
    {
     "name": "stdout",
     "output_type": "stream",
     "text": [
      "root\n",
      " |-- index: string (nullable = true)\n",
      " |-- Aatrox: long (nullable = true)\n",
      " |-- Ahri: long (nullable = true)\n",
      " |-- Akali: long (nullable = true)\n",
      " |-- Annie: long (nullable = true)\n",
      " |-- Aphelios: long (nullable = true)\n",
      " |-- Ashe: long (nullable = true)\n",
      " |-- Azir: long (nullable = true)\n",
      " |-- Cassiopeia: long (nullable = true)\n",
      " |-- Diana: long (nullable = true)\n",
      " |-- Elise: long (nullable = true)\n",
      " |-- Evelynn: long (nullable = true)\n",
      " |-- Ezreal: long (nullable = true)\n",
      " |-- Fiora: long (nullable = true)\n",
      " |-- Garen: long (nullable = true)\n",
      " |-- Hecarim: long (nullable = true)\n",
      " |-- Irelia: long (nullable = true)\n",
      " |-- Janna: long (nullable = true)\n",
      " |-- JarvanIV: long (nullable = true)\n",
      " |-- Jax: long (nullable = true)\n",
      " |-- Jhin: long (nullable = true)\n",
      " |-- Jinx: long (nullable = true)\n",
      " |-- Kalista: long (nullable = true)\n",
      " |-- Katarina: long (nullable = true)\n",
      " |-- Kayn: long (nullable = true)\n",
      " |-- Kennen: long (nullable = true)\n",
      " |-- Kindred: long (nullable = true)\n",
      " |-- LeeSin: long (nullable = true)\n",
      " |-- Lillia: long (nullable = true)\n",
      " |-- Lissandra: long (nullable = true)\n",
      " |-- Lulu: long (nullable = true)\n",
      " |-- Lux: long (nullable = true)\n",
      " |-- Maokai: long (nullable = true)\n",
      " |-- Morgana: long (nullable = true)\n",
      " |-- NaN: long (nullable = true)\n",
      " |-- Nami: long (nullable = true)\n",
      " |-- Nidalee: long (nullable = true)\n",
      " |-- Nunu: long (nullable = true)\n",
      " |-- Pyke: long (nullable = true)\n",
      " |-- Riven: long (nullable = true)\n",
      " |-- Sejuani: long (nullable = true)\n",
      " |-- Sett: long (nullable = true)\n",
      " |-- Shen: long (nullable = true)\n",
      " |-- Sylas: long (nullable = true)\n",
      " |-- TahmKench: long (nullable = true)\n",
      " |-- Talon: long (nullable = true)\n",
      " |-- Teemo: long (nullable = true)\n",
      " |-- Thresh: long (nullable = true)\n",
      " |-- TwistedFate: long (nullable = true)\n",
      " |-- Vayne: long (nullable = true)\n",
      " |-- Veigar: long (nullable = true)\n",
      " |-- Vi: long (nullable = true)\n",
      " |-- Warwick: long (nullable = true)\n",
      " |-- Wukong: long (nullable = true)\n",
      " |-- XinZhao: long (nullable = true)\n",
      " |-- Yasuo: long (nullable = true)\n",
      " |-- Yone: long (nullable = true)\n",
      " |-- Yuumi: long (nullable = true)\n",
      " |-- Zed: long (nullable = true)\n",
      " |-- Zilean: long (nullable = true)\n",
      "\n"
     ]
    }
   ],
   "source": [
    "df_pivot.printSchema()"
   ]
  },
  {
   "cell_type": "code",
   "execution_count": 20,
   "id": "curious-society",
   "metadata": {},
   "outputs": [
    {
     "data": {
      "text/plain": [
       "58"
      ]
     },
     "execution_count": 20,
     "metadata": {},
     "output_type": "execute_result"
    }
   ],
   "source": [
    "len(df_pivot.columns)-2"
   ]
  },
  {
   "cell_type": "markdown",
   "id": "little-arizona",
   "metadata": {},
   "source": [
    "Load traits"
   ]
  },
  {
   "cell_type": "code",
   "execution_count": 10,
   "id": "through-digit",
   "metadata": {},
   "outputs": [
    {
     "name": "stdout",
     "output_type": "stream",
     "text": [
      "root\n",
      " |-- index: string (nullable = true)\n",
      " |-- Adept: long (nullable = true)\n",
      " |-- Assassin: long (nullable = true)\n",
      " |-- Boss: long (nullable = true)\n",
      " |-- Brawler: long (nullable = true)\n",
      " |-- Cultist: long (nullable = true)\n",
      " |-- Dazzler: long (nullable = true)\n",
      " |-- Divine: long (nullable = true)\n",
      " |-- Duelist: long (nullable = true)\n",
      " |-- Dusk: long (nullable = true)\n",
      " |-- Elderwood: long (nullable = true)\n",
      " |-- Emperor: long (nullable = true)\n",
      " |-- Enlightened: long (nullable = true)\n",
      " |-- Exile: long (nullable = true)\n",
      " |-- Fortune: long (nullable = true)\n",
      " |-- Hunter: long (nullable = true)\n",
      " |-- Keeper: long (nullable = true)\n",
      " |-- Mage: long (nullable = true)\n",
      " |-- Moonlight: long (nullable = true)\n",
      " |-- Mystic: long (nullable = true)\n",
      " |-- NaN: long (nullable = true)\n",
      " |-- Ninja: long (nullable = true)\n",
      " |-- Shade: long (nullable = true)\n",
      " |-- Sharpshooter: long (nullable = true)\n",
      " |-- Spirit: long (nullable = true)\n",
      " |-- Tormented: long (nullable = true)\n",
      " |-- Vanguard: long (nullable = true)\n",
      " |-- Warlord: long (nullable = true)\n",
      "\n"
     ]
    }
   ],
   "source": [
    "df=pd.read_csv('data_full_encoded_traits.csv', index_col=0).reset_index()\n",
    "\n",
    "df_schema = StructType([StructField(\"index\", StringType(), True),\n",
    "                        StructField(\"traits_level\", IntegerType(), True),\n",
    "                        StructField(\"traits_lst\", StringType(), True)])\n",
    "\n",
    "dfs = spark.createDataFrame(df, schema=df_schema)\n",
    "\n",
    "df_pivot2=dfs.groupBy(\"index\").pivot(\"traits_lst\").sum(\"traits_level\")\n",
    "\n",
    "df_pivot2.printSchema()"
   ]
  },
  {
   "cell_type": "code",
   "execution_count": 21,
   "id": "communist-washer",
   "metadata": {},
   "outputs": [
    {
     "data": {
      "text/plain": [
       "26"
      ]
     },
     "execution_count": 21,
     "metadata": {},
     "output_type": "execute_result"
    }
   ],
   "source": [
    "len(df_pivot2.columns)-2"
   ]
  },
  {
   "cell_type": "markdown",
   "id": "green-guide",
   "metadata": {},
   "source": [
    "Load data"
   ]
  },
  {
   "cell_type": "code",
   "execution_count": 12,
   "id": "heavy-shelf",
   "metadata": {},
   "outputs": [],
   "source": [
    "data=pd.read_csv('data_modificato.csv', index_col=0).reset_index()"
   ]
  },
  {
   "cell_type": "code",
   "execution_count": 13,
   "id": "constant-adventure",
   "metadata": {},
   "outputs": [],
   "source": [
    "df_schema = StructType([StructField(\"index\", StringType(), True),\n",
    "                        StructField(\"patch_version\", StringType(), True),\n",
    "                        StructField(\"match_id\", StringType(), True),\n",
    "                        StructField(\"puuid\", StringType(), True),\n",
    "                        StructField(\"placement\", IntegerType(), True),\n",
    "                        StructField(\"level\", IntegerType(), True),\n",
    "                        StructField(\"gold_left\", IntegerType(), True),\n",
    "                        StructField(\"last_round\", IntegerType(), True),\n",
    "                        StructField(\"time_in_game\", FloatType(), True),\n",
    "                        StructField(\"total_dmg_to_players\", IntegerType(), True),\n",
    "                        StructField(\"players_eliminated\", IntegerType(), True),\n",
    "                        StructField(\"chosen_unit\", StringType(), True),\n",
    "                        StructField(\"chosen_trait\", StringType(), True),\n",
    "                        StructField(\"units\", StringType(), True),\n",
    "                        StructField(\"traits\", StringType(), True),\n",
    "                        StructField(\"units_lst\", StringType(), True),\n",
    "                        StructField(\"levels\", StringType(), True),\n",
    "                        StructField(\"traits_lst\", StringType(), True),\n",
    "                        StructField(\"traits_level\", StringType(), True)])\n",
    "\n",
    "data_spark = spark.createDataFrame(data, schema=df_schema)"
   ]
  },
  {
   "cell_type": "code",
   "execution_count": 14,
   "id": "civil-comfort",
   "metadata": {},
   "outputs": [],
   "source": [
    "data_spark=data_spark.drop('units', 'traits', 'units_lst', 'levels', 'traits_lst', 'traits_level')"
   ]
  },
  {
   "cell_type": "markdown",
   "id": "valuable-feedback",
   "metadata": {},
   "source": [
    "Merge datasets"
   ]
  },
  {
   "cell_type": "code",
   "execution_count": 15,
   "id": "binary-pencil",
   "metadata": {},
   "outputs": [],
   "source": [
    "data_final=data_spark.join(df_pivot, on='index')\n",
    "data_final=data_final.join(df_pivot2, on='index')"
   ]
  },
  {
   "cell_type": "code",
   "execution_count": 22,
   "id": "emotional-cause",
   "metadata": {},
   "outputs": [
    {
     "name": "stdout",
     "output_type": "stream",
     "text": [
      "root\n",
      " |-- index: string (nullable = true)\n",
      " |-- patch_version: string (nullable = true)\n",
      " |-- match_id: string (nullable = true)\n",
      " |-- puuid: string (nullable = true)\n",
      " |-- placement: integer (nullable = true)\n",
      " |-- level: integer (nullable = true)\n",
      " |-- gold_left: integer (nullable = true)\n",
      " |-- last_round: integer (nullable = true)\n",
      " |-- time_in_game: float (nullable = true)\n",
      " |-- total_dmg_to_players: integer (nullable = true)\n",
      " |-- players_eliminated: integer (nullable = true)\n",
      " |-- chosen_unit: string (nullable = true)\n",
      " |-- chosen_trait: string (nullable = true)\n",
      " |-- Aatrox: long (nullable = true)\n",
      " |-- Ahri: long (nullable = true)\n",
      " |-- Akali: long (nullable = true)\n",
      " |-- Annie: long (nullable = true)\n",
      " |-- Aphelios: long (nullable = true)\n",
      " |-- Ashe: long (nullable = true)\n",
      " |-- Azir: long (nullable = true)\n",
      " |-- Cassiopeia: long (nullable = true)\n",
      " |-- Diana: long (nullable = true)\n",
      " |-- Elise: long (nullable = true)\n",
      " |-- Evelynn: long (nullable = true)\n",
      " |-- Ezreal: long (nullable = true)\n",
      " |-- Fiora: long (nullable = true)\n",
      " |-- Garen: long (nullable = true)\n",
      " |-- Hecarim: long (nullable = true)\n",
      " |-- Irelia: long (nullable = true)\n",
      " |-- Janna: long (nullable = true)\n",
      " |-- JarvanIV: long (nullable = true)\n",
      " |-- Jax: long (nullable = true)\n",
      " |-- Jhin: long (nullable = true)\n",
      " |-- Jinx: long (nullable = true)\n",
      " |-- Kalista: long (nullable = true)\n",
      " |-- Katarina: long (nullable = true)\n",
      " |-- Kayn: long (nullable = true)\n",
      " |-- Kennen: long (nullable = true)\n",
      " |-- Kindred: long (nullable = true)\n",
      " |-- LeeSin: long (nullable = true)\n",
      " |-- Lillia: long (nullable = true)\n",
      " |-- Lissandra: long (nullable = true)\n",
      " |-- Lulu: long (nullable = true)\n",
      " |-- Lux: long (nullable = true)\n",
      " |-- Maokai: long (nullable = true)\n",
      " |-- Morgana: long (nullable = true)\n",
      " |-- NaN: long (nullable = true)\n",
      " |-- Nami: long (nullable = true)\n",
      " |-- Nidalee: long (nullable = true)\n",
      " |-- Nunu: long (nullable = true)\n",
      " |-- Pyke: long (nullable = true)\n",
      " |-- Riven: long (nullable = true)\n",
      " |-- Sejuani: long (nullable = true)\n",
      " |-- Sett: long (nullable = true)\n",
      " |-- Shen: long (nullable = true)\n",
      " |-- Sylas: long (nullable = true)\n",
      " |-- TahmKench: long (nullable = true)\n",
      " |-- Talon: long (nullable = true)\n",
      " |-- Teemo: long (nullable = true)\n",
      " |-- Thresh: long (nullable = true)\n",
      " |-- TwistedFate: long (nullable = true)\n",
      " |-- Vayne: long (nullable = true)\n",
      " |-- Veigar: long (nullable = true)\n",
      " |-- Vi: long (nullable = true)\n",
      " |-- Warwick: long (nullable = true)\n",
      " |-- Wukong: long (nullable = true)\n",
      " |-- XinZhao: long (nullable = true)\n",
      " |-- Yasuo: long (nullable = true)\n",
      " |-- Yone: long (nullable = true)\n",
      " |-- Yuumi: long (nullable = true)\n",
      " |-- Zed: long (nullable = true)\n",
      " |-- Zilean: long (nullable = true)\n",
      " |-- Adept: long (nullable = true)\n",
      " |-- Assassin: long (nullable = true)\n",
      " |-- Boss: long (nullable = true)\n",
      " |-- Brawler: long (nullable = true)\n",
      " |-- Cultist: long (nullable = true)\n",
      " |-- Dazzler: long (nullable = true)\n",
      " |-- Divine: long (nullable = true)\n",
      " |-- Duelist: long (nullable = true)\n",
      " |-- Dusk: long (nullable = true)\n",
      " |-- Elderwood: long (nullable = true)\n",
      " |-- Emperor: long (nullable = true)\n",
      " |-- Enlightened: long (nullable = true)\n",
      " |-- Exile: long (nullable = true)\n",
      " |-- Fortune: long (nullable = true)\n",
      " |-- Hunter: long (nullable = true)\n",
      " |-- Keeper: long (nullable = true)\n",
      " |-- Mage: long (nullable = true)\n",
      " |-- Moonlight: long (nullable = true)\n",
      " |-- Mystic: long (nullable = true)\n",
      " |-- NaN: long (nullable = true)\n",
      " |-- Ninja: long (nullable = true)\n",
      " |-- Shade: long (nullable = true)\n",
      " |-- Sharpshooter: long (nullable = true)\n",
      " |-- Spirit: long (nullable = true)\n",
      " |-- Tormented: long (nullable = true)\n",
      " |-- Vanguard: long (nullable = true)\n",
      " |-- Warlord: long (nullable = true)\n",
      "\n"
     ]
    }
   ],
   "source": [
    "data_final.printSchema()"
   ]
  },
  {
   "cell_type": "code",
   "execution_count": 23,
   "id": "fallen-termination",
   "metadata": {},
   "outputs": [
    {
     "data": {
      "text/plain": [
       "96"
      ]
     },
     "execution_count": 23,
     "metadata": {},
     "output_type": "execute_result"
    }
   ],
   "source": [
    "len(data_final.columns)-3"
   ]
  },
  {
   "cell_type": "code",
   "execution_count": 17,
   "id": "absolute-operations",
   "metadata": {},
   "outputs": [],
   "source": [
    "data_final = data_final.filter((data_final.patch_version != '11.10') & (data_final.patch_version != '10.19'))"
   ]
  },
  {
   "cell_type": "markdown",
   "id": "supposed-springer",
   "metadata": {},
   "source": [
    "## Plots"
   ]
  },
  {
   "cell_type": "code",
   "execution_count": 25,
   "id": "architectural-vancouver",
   "metadata": {},
   "outputs": [],
   "source": [
    "import matplotlib.pyplot as plt"
   ]
  },
  {
   "cell_type": "code",
   "execution_count": 29,
   "id": "involved-newfoundland",
   "metadata": {
    "scrolled": true
   },
   "outputs": [
    {
     "data": {
      "image/png": "[encoded data removed]",
      "text/plain": [
       "<Figure size 432x288 with 1 Axes>"
      ]
     },
     "metadata": {
      "needs_background": "light"
     },
     "output_type": "display_data"
    }
   ],
   "source": [
    "patch=data[~data.patch_version.isin([10.19, 11.10])].patch_version.value_counts().reset_index()\n",
    "plt.bar(patch['index'].apply(str), patch.patch_version)\n",
    "plt.show()"
   ]
  },
  {
   "cell_type": "code",
   "execution_count": 56,
   "id": "fluid-authentication",
   "metadata": {},
   "outputs": [
    {
     "data": {
      "image/png": "[encoded data removed]",
      "text/plain": [
       "<Figure size 432x288 with 1 Axes>"
      ]
     },
     "metadata": {
      "needs_background": "light"
     },
     "output_type": "display_data"
    }
   ],
   "source": [
    "plt.hist(data.level)\n",
    "plt.show()"
   ]
  },
  {
   "cell_type": "code",
   "execution_count": 57,
   "id": "possible-manufacturer",
   "metadata": {
    "scrolled": true
   },
   "outputs": [
    {
     "data": {
      "image/png": "[encoded data removed]",
      "text/plain": [
       "<Figure size 432x288 with 1 Axes>"
      ]
     },
     "metadata": {
      "needs_background": "light"
     },
     "output_type": "display_data"
    }
   ],
   "source": [
    "plt.hist(data.gold_left)\n",
    "plt.show()"
   ]
  },
  {
   "cell_type": "code",
   "execution_count": 58,
   "id": "tough-committee",
   "metadata": {},
   "outputs": [
    {
     "data": {
      "text/plain": [
       "[]"
      ]
     },
     "execution_count": 58,
     "metadata": {},
     "output_type": "execute_result"
    },
    {
     "data": {
      "image/png": "[encoded data removed]",
      "text/plain": [
       "<Figure size 432x288 with 1 Axes>"
      ]
     },
     "metadata": {
      "needs_background": "light"
     },
     "output_type": "display_data"
    }
   ],
   "source": [
    "plt.hist(data.last_round)\n",
    "plt.plot()"
   ]
  },
  {
   "cell_type": "code",
   "execution_count": 59,
   "id": "talented-plasma",
   "metadata": {
    "scrolled": true
   },
   "outputs": [
    {
     "data": {
      "image/png": "[encoded data removed]",
      "text/plain": [
       "<Figure size 432x288 with 1 Axes>"
      ]
     },
     "metadata": {
      "needs_background": "light"
     },
     "output_type": "display_data"
    }
   ],
   "source": [
    "plt.hist(data.time_in_game)\n",
    "plt.show()"
   ]
  },
  {
   "cell_type": "code",
   "execution_count": 60,
   "id": "occupied-geometry",
   "metadata": {
    "scrolled": true
   },
   "outputs": [
    {
     "data": {
      "image/png": "[encoded data removed]",
      "text/plain": [
       "<Figure size 432x288 with 1 Axes>"
      ]
     },
     "metadata": {
      "needs_background": "light"
     },
     "output_type": "display_data"
    }
   ],
   "source": [
    "plt.hist(data.total_dmg_to_players)\n",
    "plt.show()"
   ]
  },
  {
   "cell_type": "code",
   "execution_count": 61,
   "id": "instrumental-liability",
   "metadata": {
    "scrolled": false
   },
   "outputs": [
    {
     "data": {
      "image/png": "[encoded data removed]",
      "text/plain": [
       "<Figure size 432x288 with 1 Axes>"
      ]
     },
     "metadata": {
      "needs_background": "light"
     },
     "output_type": "display_data"
    }
   ],
   "source": [
    "plt.hist(data.players_eliminated)\n",
    "plt.show()"
   ]
  },
  {
   "cell_type": "code",
   "execution_count": 62,
   "id": "assisted-groove",
   "metadata": {
    "scrolled": true
   },
   "outputs": [
    {
     "data": {
      "text/html": [
       "<div>\n",
       "<style scoped>\n",
       "    .dataframe tbody tr th:only-of-type {\n",
       "        vertical-align: middle;\n",
       "    }\n",
       "\n",
       "    .dataframe tbody tr th {\n",
       "        vertical-align: top;\n",
       "    }\n",
       "\n",
       "    .dataframe thead th {\n",
       "        text-align: right;\n",
       "    }\n",
       "</style>\n",
       "<table border=\"1\" class=\"dataframe\">\n",
       "  <thead>\n",
       "    <tr style=\"text-align: right;\">\n",
       "      <th></th>\n",
       "      <th>index</th>\n",
       "      <th>patch_version</th>\n",
       "      <th>placement</th>\n",
       "      <th>level</th>\n",
       "      <th>gold_left</th>\n",
       "      <th>last_round</th>\n",
       "      <th>time_in_game</th>\n",
       "      <th>total_dmg_to_players</th>\n",
       "      <th>players_eliminated</th>\n",
       "    </tr>\n",
       "  </thead>\n",
       "  <tbody>\n",
       "    <tr>\n",
       "      <th>index</th>\n",
       "      <td>1.000000</td>\n",
       "      <td>3.510357e-01</td>\n",
       "      <td>1.059815e-05</td>\n",
       "      <td>0.063842</td>\n",
       "      <td>0.000815</td>\n",
       "      <td>-0.080439</td>\n",
       "      <td>-0.144209</td>\n",
       "      <td>-0.001795</td>\n",
       "      <td>0.000823</td>\n",
       "    </tr>\n",
       "    <tr>\n",
       "      <th>patch_version</th>\n",
       "      <td>0.351036</td>\n",
       "      <td>1.000000e+00</td>\n",
       "      <td>6.455860e-15</td>\n",
       "      <td>0.013258</td>\n",
       "      <td>-0.003766</td>\n",
       "      <td>-0.027237</td>\n",
       "      <td>-0.052675</td>\n",
       "      <td>-0.000543</td>\n",
       "      <td>0.000266</td>\n",
       "    </tr>\n",
       "    <tr>\n",
       "      <th>placement</th>\n",
       "      <td>0.000011</td>\n",
       "      <td>6.455860e-15</td>\n",
       "      <td>1.000000e+00</td>\n",
       "      <td>-0.535271</td>\n",
       "      <td>0.076248</td>\n",
       "      <td>-0.872941</td>\n",
       "      <td>-0.837772</td>\n",
       "      <td>-0.894784</td>\n",
       "      <td>-0.714768</td>\n",
       "    </tr>\n",
       "    <tr>\n",
       "      <th>level</th>\n",
       "      <td>0.063842</td>\n",
       "      <td>1.325779e-02</td>\n",
       "      <td>-5.352714e-01</td>\n",
       "      <td>1.000000</td>\n",
       "      <td>-0.260532</td>\n",
       "      <td>0.605286</td>\n",
       "      <td>0.588753</td>\n",
       "      <td>0.579344</td>\n",
       "      <td>0.371028</td>\n",
       "    </tr>\n",
       "    <tr>\n",
       "      <th>gold_left</th>\n",
       "      <td>0.000815</td>\n",
       "      <td>-3.766466e-03</td>\n",
       "      <td>7.624828e-02</td>\n",
       "      <td>-0.260532</td>\n",
       "      <td>1.000000</td>\n",
       "      <td>-0.168392</td>\n",
       "      <td>-0.171942</td>\n",
       "      <td>-0.090884</td>\n",
       "      <td>-0.026646</td>\n",
       "    </tr>\n",
       "    <tr>\n",
       "      <th>last_round</th>\n",
       "      <td>-0.080439</td>\n",
       "      <td>-2.723650e-02</td>\n",
       "      <td>-8.729407e-01</td>\n",
       "      <td>0.605286</td>\n",
       "      <td>-0.168392</td>\n",
       "      <td>1.000000</td>\n",
       "      <td>0.976319</td>\n",
       "      <td>0.866586</td>\n",
       "      <td>0.605877</td>\n",
       "    </tr>\n",
       "    <tr>\n",
       "      <th>time_in_game</th>\n",
       "      <td>-0.144209</td>\n",
       "      <td>-5.267529e-02</td>\n",
       "      <td>-8.377722e-01</td>\n",
       "      <td>0.588753</td>\n",
       "      <td>-0.171942</td>\n",
       "      <td>0.976319</td>\n",
       "      <td>1.000000</td>\n",
       "      <td>0.831245</td>\n",
       "      <td>0.575422</td>\n",
       "    </tr>\n",
       "    <tr>\n",
       "      <th>total_dmg_to_players</th>\n",
       "      <td>-0.001795</td>\n",
       "      <td>-5.433762e-04</td>\n",
       "      <td>-8.947837e-01</td>\n",
       "      <td>0.579344</td>\n",
       "      <td>-0.090884</td>\n",
       "      <td>0.866586</td>\n",
       "      <td>0.831245</td>\n",
       "      <td>1.000000</td>\n",
       "      <td>0.732289</td>\n",
       "    </tr>\n",
       "    <tr>\n",
       "      <th>players_eliminated</th>\n",
       "      <td>0.000823</td>\n",
       "      <td>2.657394e-04</td>\n",
       "      <td>-7.147680e-01</td>\n",
       "      <td>0.371028</td>\n",
       "      <td>-0.026646</td>\n",
       "      <td>0.605877</td>\n",
       "      <td>0.575422</td>\n",
       "      <td>0.732289</td>\n",
       "      <td>1.000000</td>\n",
       "    </tr>\n",
       "  </tbody>\n",
       "</table>\n",
       "</div>"
      ],
      "text/plain": [
       "                         index  patch_version     placement     level  \\\n",
       "index                 1.000000   3.510357e-01  1.059815e-05  0.063842   \n",
       "patch_version         0.351036   1.000000e+00  6.455860e-15  0.013258   \n",
       "placement             0.000011   6.455860e-15  1.000000e+00 -0.535271   \n",
       "level                 0.063842   1.325779e-02 -5.352714e-01  1.000000   \n",
       "gold_left             0.000815  -3.766466e-03  7.624828e-02 -0.260532   \n",
       "last_round           -0.080439  -2.723650e-02 -8.729407e-01  0.605286   \n",
       "time_in_game         -0.144209  -5.267529e-02 -8.377722e-01  0.588753   \n",
       "total_dmg_to_players -0.001795  -5.433762e-04 -8.947837e-01  0.579344   \n",
       "players_eliminated    0.000823   2.657394e-04 -7.147680e-01  0.371028   \n",
       "\n",
       "                      gold_left  last_round  time_in_game  \\\n",
       "index                  0.000815   -0.080439     -0.144209   \n",
       "patch_version         -0.003766   -0.027237     -0.052675   \n",
       "placement              0.076248   -0.872941     -0.837772   \n",
       "level                 -0.260532    0.605286      0.588753   \n",
       "gold_left              1.000000   -0.168392     -0.171942   \n",
       "last_round            -0.168392    1.000000      0.976319   \n",
       "time_in_game          -0.171942    0.976319      1.000000   \n",
       "total_dmg_to_players  -0.090884    0.866586      0.831245   \n",
       "players_eliminated    -0.026646    0.605877      0.575422   \n",
       "\n",
       "                      total_dmg_to_players  players_eliminated  \n",
       "index                            -0.001795            0.000823  \n",
       "patch_version                    -0.000543            0.000266  \n",
       "placement                        -0.894784           -0.714768  \n",
       "level                             0.579344            0.371028  \n",
       "gold_left                        -0.090884           -0.026646  \n",
       "last_round                        0.866586            0.605877  \n",
       "time_in_game                      0.831245            0.575422  \n",
       "total_dmg_to_players              1.000000            0.732289  \n",
       "players_eliminated                0.732289            1.000000  "
      ]
     },
     "execution_count": 62,
     "metadata": {},
     "output_type": "execute_result"
    }
   ],
   "source": [
    "data.corr()"
   ]
  },
  {
   "cell_type": "code",
   "execution_count": 26,
   "id": "lightweight-favorite",
   "metadata": {},
   "outputs": [],
   "source": [
    "data_final=data_final.drop('NaN')"
   ]
  },
  {
   "cell_type": "code",
   "execution_count": 27,
   "id": "unusual-specific",
   "metadata": {},
   "outputs": [],
   "source": [
    "data_final_clean = data_final.fillna(float(0))"
   ]
  },
  {
   "cell_type": "code",
   "execution_count": 28,
   "id": "different-space",
   "metadata": {},
   "outputs": [],
   "source": [
    "data_final_clean = data_final_clean.na.fill(value=0)"
   ]
  },
  {
   "cell_type": "code",
   "execution_count": 30,
   "id": "blessed-fundamental",
   "metadata": {},
   "outputs": [
    {
     "data": {
      "text/plain": [
       "(array([1.3077e+04, 2.8868e+04, 5.8800e+04, 7.7196e+04, 8.7232e+04,\n",
       "        9.4270e+04, 8.0857e+04, 7.3572e+04, 5.5970e+04, 4.5139e+04,\n",
       "        3.8470e+04, 2.8713e+04, 2.1778e+04, 1.2249e+04, 6.2980e+03,\n",
       "        2.6460e+03, 7.8300e+02, 2.4900e+02, 5.9000e+01, 6.0000e+00]),\n",
       " array([  0. ,  15.4,  30.8,  46.2,  61.6,  77. ,  92.4, 107.8, 123.2,\n",
       "        138.6, 154. , 169.4, 184.8, 200.2, 215.6, 231. , 246.4, 261.8,\n",
       "        277.2, 292.6, 308. ]),\n",
       " <a list of 20 Patch objects>)"
      ]
     },
     "execution_count": 30,
     "metadata": {},
     "output_type": "execute_result"
    },
    {
     "data": {
      "image/png": "[encoded data removed]",
      "text/plain": [
       "<Figure size 432x288 with 1 Axes>"
      ]
     },
     "metadata": {
      "needs_background": "light"
     },
     "output_type": "display_data"
    }
   ],
   "source": [
    "fig, ax = plt.subplots()\n",
    "hist(ax, data_final.select('total_dmg_to_players'), bins = 20)"
   ]
  },
  {
   "cell_type": "code",
   "execution_count": 33,
   "id": "incorporate-prospect",
   "metadata": {
    "scrolled": true
   },
   "outputs": [
    {
     "data": {
      "text/plain": [
       "(array([154100.,  90683.,    217.]),\n",
       " array([1.        , 1.66666667, 2.33333333, 3.        ]),\n",
       " <a list of 3 Patch objects>)"
      ]
     },
     "execution_count": 33,
     "metadata": {},
     "output_type": "execute_result"
    },
    {
     "data": {
      "image/png": "[encoded data removed]",
      "text/plain": [
       "<Figure size 432x288 with 1 Axes>"
      ]
     },
     "metadata": {
      "needs_background": "light"
     },
     "output_type": "display_data"
    }
   ],
   "source": [
    "fig, ax = plt.subplots()\n",
    "hist(ax, data_final.select('Yone'), bins = 3)"
   ]
  },
  {
   "cell_type": "code",
   "execution_count": 34,
   "id": "proprietary-military",
   "metadata": {
    "scrolled": true
   },
   "outputs": [
    {
     "data": {
      "text/plain": [
       "(array([1.4637e+05, 7.2126e+04, 1.3800e+02]),\n",
       " array([1.        , 1.66666667, 2.33333333, 3.        ]),\n",
       " <a list of 3 Patch objects>)"
      ]
     },
     "execution_count": 34,
     "metadata": {},
     "output_type": "execute_result"
    },
    {
     "data": {
      "image/png": "[encoded data removed]",
      "text/plain": [
       "<Figure size 432x288 with 1 Axes>"
      ]
     },
     "metadata": {
      "needs_background": "light"
     },
     "output_type": "display_data"
    }
   ],
   "source": [
    "fig, ax = plt.subplots()\n",
    "hist(ax, data_final.select('Azir'), bins = 3)"
   ]
  },
  {
   "cell_type": "code",
   "execution_count": 35,
   "id": "collective-permission",
   "metadata": {
    "scrolled": true
   },
   "outputs": [
    {
     "data": {
      "text/plain": [
       "(array([1.53715e+05, 7.79950e+04, 5.80000e+01]),\n",
       " array([1.        , 1.66666667, 2.33333333, 3.        ]),\n",
       " <a list of 3 Patch objects>)"
      ]
     },
     "execution_count": 35,
     "metadata": {},
     "output_type": "execute_result"
    },
    {
     "data": {
      "image/png": "[encoded data removed]",
      "text/plain": [
       "<Figure size 432x288 with 1 Axes>"
      ]
     },
     "metadata": {
      "needs_background": "light"
     },
     "output_type": "display_data"
    }
   ],
   "source": [
    "fig, ax = plt.subplots()\n",
    "hist(ax, data_final.select('Zilean'), bins = 3)"
   ]
  },
  {
   "cell_type": "code",
   "execution_count": 37,
   "id": "skilled-lottery",
   "metadata": {},
   "outputs": [
    {
     "data": {
      "text/plain": [
       "(array([7.9659e+04, 9.1742e+04, 4.3370e+03, 2.4364e+04, 1.2750e+03,\n",
       "        6.5280e+03, 8.2000e+01, 1.0000e+00]),\n",
       " array([1.   , 1.875, 2.75 , 3.625, 4.5  , 5.375, 6.25 , 7.125, 8.   ]),\n",
       " <a list of 8 Patch objects>)"
      ]
     },
     "execution_count": 37,
     "metadata": {},
     "output_type": "execute_result"
    },
    {
     "data": {
      "image/png": "[encoded data removed]",
      "text/plain": [
       "<Figure size 432x288 with 1 Axes>"
      ]
     },
     "metadata": {
      "needs_background": "light"
     },
     "output_type": "display_data"
    }
   ],
   "source": [
    "fig, ax = plt.subplots()\n",
    "hist(ax, data_final.select('Assassin'), bins = 8)"
   ]
  },
  {
   "cell_type": "code",
   "execution_count": 39,
   "id": "quiet-carrier",
   "metadata": {
    "scrolled": true
   },
   "outputs": [
    {
     "data": {
      "text/plain": [
       "(array([332365.,   4882.,   1239.,  33475.]),\n",
       " array([1.  , 1.75, 2.5 , 3.25, 4.  ]),\n",
       " <a list of 4 Patch objects>)"
      ]
     },
     "execution_count": 39,
     "metadata": {},
     "output_type": "execute_result"
    },
    {
     "data": {
      "image/png": "[encoded data removed]",
      "text/plain": [
       "<Figure size 432x288 with 1 Axes>"
      ]
     },
     "metadata": {
      "needs_background": "light"
     },
     "output_type": "display_data"
    }
   ],
   "source": [
    "fig, ax = plt.subplots()\n",
    "hist(ax, data_final.select('Ninja'), bins = 4)"
   ]
  },
  {
   "cell_type": "code",
   "execution_count": 26,
   "id": "hollywood-protocol",
   "metadata": {},
   "outputs": [
    {
     "ename": "ValueError",
     "evalue": "Column patch_version has a non-numeric type (StringType), only numeric types are supported",
     "output_type": "error",
     "traceback": [
      "\u001b[0;31m---------------------------------------------------------------------------\u001b[0m",
      "\u001b[0;31mValueError\u001b[0m                                Traceback (most recent call last)",
      "\u001b[0;32m<ipython-input-26-84dcc0834ce5>\u001b[0m in \u001b[0;36m<module>\u001b[0;34m\u001b[0m\n\u001b[1;32m      1\u001b[0m \u001b[0mfig\u001b[0m\u001b[0;34m,\u001b[0m \u001b[0max\u001b[0m \u001b[0;34m=\u001b[0m \u001b[0mplt\u001b[0m\u001b[0;34m.\u001b[0m\u001b[0msubplots\u001b[0m\u001b[0;34m(\u001b[0m\u001b[0;34m)\u001b[0m\u001b[0;34m\u001b[0m\u001b[0;34m\u001b[0m\u001b[0m\n\u001b[0;32m----> 2\u001b[0;31m \u001b[0mhist\u001b[0m\u001b[0;34m(\u001b[0m\u001b[0max\u001b[0m\u001b[0;34m,\u001b[0m \u001b[0mdata_final\u001b[0m\u001b[0;34m.\u001b[0m\u001b[0mselect\u001b[0m\u001b[0;34m(\u001b[0m\u001b[0;34m'patch_version'\u001b[0m\u001b[0;34m)\u001b[0m\u001b[0;34m,\u001b[0m \u001b[0mbins\u001b[0m \u001b[0;34m=\u001b[0m \u001b[0;36m6\u001b[0m\u001b[0;34m)\u001b[0m\u001b[0;34m\u001b[0m\u001b[0;34m\u001b[0m\u001b[0m\n\u001b[0m",
      "\u001b[0;32m~/.local/lib/python3.8/site-packages/pyspark_dist_explore/pyspark_dist_explore.py\u001b[0m in \u001b[0;36mhist\u001b[0;34m(axis, x, overlapping, formatted_yaxis, **kwargs)\u001b[0m\n\u001b[1;32m     51\u001b[0m     \"\"\"\n\u001b[1;32m     52\u001b[0m     \u001b[0mhistogram\u001b[0m \u001b[0;34m=\u001b[0m \u001b[0mcreate_histogram_object\u001b[0m\u001b[0;34m(\u001b[0m\u001b[0mkwargs\u001b[0m\u001b[0;34m)\u001b[0m\u001b[0;34m\u001b[0m\u001b[0;34m\u001b[0m\u001b[0m\n\u001b[0;32m---> 53\u001b[0;31m     \u001b[0mhistogram\u001b[0m\u001b[0;34m.\u001b[0m\u001b[0madd_data\u001b[0m\u001b[0;34m(\u001b[0m\u001b[0mx\u001b[0m\u001b[0;34m)\u001b[0m\u001b[0;34m\u001b[0m\u001b[0;34m\u001b[0m\u001b[0m\n\u001b[0m\u001b[1;32m     54\u001b[0m     \u001b[0;32mreturn\u001b[0m \u001b[0mhistogram\u001b[0m\u001b[0;34m.\u001b[0m\u001b[0mplot_hist\u001b[0m\u001b[0;34m(\u001b[0m\u001b[0maxis\u001b[0m\u001b[0;34m,\u001b[0m \u001b[0moverlapping\u001b[0m\u001b[0;34m,\u001b[0m \u001b[0mformatted_yaxis\u001b[0m\u001b[0;34m,\u001b[0m \u001b[0;34m**\u001b[0m\u001b[0mkwargs\u001b[0m\u001b[0;34m)\u001b[0m\u001b[0;34m\u001b[0m\u001b[0;34m\u001b[0m\u001b[0m\n\u001b[1;32m     55\u001b[0m \u001b[0;34m\u001b[0m\u001b[0m\n",
      "\u001b[0;32m~/.local/lib/python3.8/site-packages/pyspark_dist_explore/pyspark_dist_explore.py\u001b[0m in \u001b[0;36madd_data\u001b[0;34m(self, data)\u001b[0m\n\u001b[1;32m    443\u001b[0m \u001b[0;34m\u001b[0m\u001b[0m\n\u001b[1;32m    444\u001b[0m         \u001b[0;32melse\u001b[0m\u001b[0;34m:\u001b[0m\u001b[0;34m\u001b[0m\u001b[0;34m\u001b[0m\u001b[0m\n\u001b[0;32m--> 445\u001b[0;31m             \u001b[0mself\u001b[0m\u001b[0;34m.\u001b[0m\u001b[0madd_column\u001b[0m\u001b[0;34m(\u001b[0m\u001b[0mdata\u001b[0m\u001b[0;34m)\u001b[0m\u001b[0;34m\u001b[0m\u001b[0;34m\u001b[0m\u001b[0m\n\u001b[0m",
      "\u001b[0;32m~/.local/lib/python3.8/site-packages/pyspark_dist_explore/pyspark_dist_explore.py\u001b[0m in \u001b[0;36madd_column\u001b[0;34m(self, table)\u001b[0m\n\u001b[1;32m    198\u001b[0m \u001b[0;34m\u001b[0m\u001b[0m\n\u001b[1;32m    199\u001b[0m         \u001b[0;32mif\u001b[0m \u001b[0;32mnot\u001b[0m \u001b[0misinstance\u001b[0m\u001b[0;34m(\u001b[0m\u001b[0mtable\u001b[0m\u001b[0;34m.\u001b[0m\u001b[0mschema\u001b[0m\u001b[0;34m.\u001b[0m\u001b[0mfields\u001b[0m\u001b[0;34m[\u001b[0m\u001b[0;36m0\u001b[0m\u001b[0;34m]\u001b[0m\u001b[0;34m.\u001b[0m\u001b[0mdataType\u001b[0m\u001b[0;34m,\u001b[0m \u001b[0mNumericType\u001b[0m\u001b[0;34m)\u001b[0m\u001b[0;34m:\u001b[0m\u001b[0;34m\u001b[0m\u001b[0;34m\u001b[0m\u001b[0m\n\u001b[0;32m--> 200\u001b[0;31m             raise ValueError('Column %s has a non-numeric type (%s), only numeric types are supported'\n\u001b[0m\u001b[1;32m    201\u001b[0m                              % (column_name, str(table.schema.fields[0].dataType)))\n\u001b[1;32m    202\u001b[0m \u001b[0;34m\u001b[0m\u001b[0m\n",
      "\u001b[0;31mValueError\u001b[0m: Column patch_version has a non-numeric type (StringType), only numeric types are supported"
     ]
    },
    {
     "data": {
      "image/png": "[encoded data removed]",
      "text/plain": [
       "<Figure size 432x288 with 1 Axes>"
      ]
     },
     "metadata": {
      "needs_background": "light"
     },
     "output_type": "display_data"
    }
   ],
   "source": [
    "fig, ax = plt.subplots()\n",
    "hist(ax, data_final.select('patch_version'), bins = 6)"
   ]
  }
 ],
 "metadata": {
  "kernelspec": {
   "display_name": "Python 3",
   "language": "python",
   "name": "python3"
  },
  "language_info": {
   "codemirror_mode": {
    "name": "ipython",
    "version": 3
   },
   "file_extension": ".py",
   "mimetype": "text/x-python",
   "name": "python",
   "nbconvert_exporter": "python",
   "pygments_lexer": "ipython3",
   "version": "3.8.10"
  }
 },
 "nbformat": 4,
 "nbformat_minor": 5
}
