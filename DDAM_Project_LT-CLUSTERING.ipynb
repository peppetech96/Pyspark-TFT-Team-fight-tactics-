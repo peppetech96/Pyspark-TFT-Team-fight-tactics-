{
 "cells": [
  {
   "cell_type": "markdown",
   "id": "different-flavor",
   "metadata": {
    "scrolled": false
   },
   "source": [
    "# Data processing"
   ]
  },
  {
   "cell_type": "code",
   "execution_count": 2,
   "id": "passive-berkeley",
   "metadata": {},
   "outputs": [
    {
     "name": "stderr",
     "output_type": "stream",
     "text": [
      "WARNING:root:'PYARROW_IGNORE_TIMEZONE' environment variable was not set. It is required to set this environment variable to '1' in both driver and executor sides if you use pyarrow>=2.0.0. pandas-on-Spark will set it for you but it does not work if there is a Spark context already launched.\n"
     ]
    }
   ],
   "source": [
    "import csv \n",
    "import io\n",
    "import pyspark\n",
    "import pandas as pd\n",
    "import pyspark.pandas as ps\n",
    "from pyspark.sql import SparkSession\n",
    "from pyspark.sql import SQLContext\n",
    "import ast\n",
    "from pyspark.sql.types import *\n",
    "from pyspark.ml.clustering import KMeans\n",
    "from pyspark.ml.feature import VectorAssembler\n",
    "from pyspark.ml.regression import LinearRegression\n",
    "from pyspark.ml import Pipeline"
   ]
  },
  {
   "cell_type": "code",
   "execution_count": null,
   "id": "surgical-motel",
   "metadata": {
    "scrolled": true
   },
   "outputs": [],
   "source": [
    "#conf = pyspark.SparkConf().setMaster(\"local\").setAppName(\"My App\")\n",
    "#sc = pyspark.SparkContext(conf = conf)\n",
    "#sqlContext = SQLContext(sc)\n",
    "#spark = SparkSession.builder.getOrCreate()"
   ]
  },
  {
   "cell_type": "code",
   "execution_count": 3,
   "id": "magnetic-translator",
   "metadata": {},
   "outputs": [],
   "source": [
    "spark = SparkSession.builder \\\n",
    ".master('local[*]') \\\n",
    ".config(\"spark.driver.memory\", \"15g\") \\\n",
    ".appName('My App') \\\n",
    ".getOrCreate()"
   ]
  },
  {
   "cell_type": "markdown",
   "id": "grave-preview",
   "metadata": {},
   "source": [
    "Load units"
   ]
  },
  {
   "cell_type": "code",
   "execution_count": 4,
   "id": "collective-hardwood",
   "metadata": {},
   "outputs": [
    {
     "name": "stderr",
     "output_type": "stream",
     "text": [
      "/usr/lib/python3/dist-packages/numpy/lib/arraysetops.py:568: FutureWarning: elementwise comparison failed; returning scalar instead, but in the future will perform elementwise comparison\n",
      "  mask |= (ar1 == a)\n"
     ]
    }
   ],
   "source": [
    "df=pd.read_csv('data_full_encoded_units.csv', index_col=0).reset_index()"
   ]
  },
  {
   "cell_type": "code",
   "execution_count": 5,
   "id": "junior-massachusetts",
   "metadata": {},
   "outputs": [],
   "source": [
    "df_schema = StructType([StructField(\"index\", StringType(), True),\n",
    "                        StructField(\"levels\", IntegerType(), True),\n",
    "                        StructField(\"units_lst\", StringType(), True)])\n",
    "\n",
    "dfs = spark.createDataFrame(df, schema=df_schema)"
   ]
  },
  {
   "cell_type": "code",
   "execution_count": 6,
   "id": "contemporary-shame",
   "metadata": {
    "scrolled": true
   },
   "outputs": [
    {
     "name": "stdout",
     "output_type": "stream",
     "text": [
      "root\n",
      " |-- index: string (nullable = true)\n",
      " |-- levels: integer (nullable = true)\n",
      " |-- units_lst: string (nullable = true)\n",
      "\n"
     ]
    }
   ],
   "source": [
    "dfs.printSchema()"
   ]
  },
  {
   "cell_type": "code",
   "execution_count": 7,
   "id": "elect-roberts",
   "metadata": {},
   "outputs": [
    {
     "name": "stdout",
     "output_type": "stream",
     "text": [
      "+-----+------+---------+\n",
      "|index|levels|units_lst|\n",
      "+-----+------+---------+\n",
      "|    0|     2|  Nidalee|\n",
      "|    0|     2|    Teemo|\n",
      "|    0|     2|   Irelia|\n",
      "|    0|     2|    Yuumi|\n",
      "|    0|     2|     Jinx|\n",
      "|    0|     2| Katarina|\n",
      "|    0|     2|  Sejuani|\n",
      "|    0|     2|     Shen|\n",
      "|    0|     2|     Azir|\n",
      "|    1|     2|    Elise|\n",
      "+-----+------+---------+\n",
      "only showing top 10 rows\n",
      "\n"
     ]
    }
   ],
   "source": [
    "dfs.show(10)"
   ]
  },
  {
   "cell_type": "code",
   "execution_count": 8,
   "id": "passive-ballot",
   "metadata": {},
   "outputs": [],
   "source": [
    "df_pivot=dfs.groupBy(\"index\").pivot(\"units_lst\").sum(\"levels\")"
   ]
  },
  {
   "cell_type": "code",
   "execution_count": 9,
   "id": "imported-cream",
   "metadata": {
    "scrolled": true
   },
   "outputs": [
    {
     "name": "stdout",
     "output_type": "stream",
     "text": [
      "root\n",
      " |-- index: string (nullable = true)\n",
      " |-- Aatrox: long (nullable = true)\n",
      " |-- Ahri: long (nullable = true)\n",
      " |-- Akali: long (nullable = true)\n",
      " |-- Annie: long (nullable = true)\n",
      " |-- Aphelios: long (nullable = true)\n",
      " |-- Ashe: long (nullable = true)\n",
      " |-- Azir: long (nullable = true)\n",
      " |-- Cassiopeia: long (nullable = true)\n",
      " |-- Diana: long (nullable = true)\n",
      " |-- Elise: long (nullable = true)\n",
      " |-- Evelynn: long (nullable = true)\n",
      " |-- Ezreal: long (nullable = true)\n",
      " |-- Fiora: long (nullable = true)\n",
      " |-- Garen: long (nullable = true)\n",
      " |-- Hecarim: long (nullable = true)\n",
      " |-- Irelia: long (nullable = true)\n",
      " |-- Janna: long (nullable = true)\n",
      " |-- JarvanIV: long (nullable = true)\n",
      " |-- Jax: long (nullable = true)\n",
      " |-- Jhin: long (nullable = true)\n",
      " |-- Jinx: long (nullable = true)\n",
      " |-- Kalista: long (nullable = true)\n",
      " |-- Katarina: long (nullable = true)\n",
      " |-- Kayn: long (nullable = true)\n",
      " |-- Kennen: long (nullable = true)\n",
      " |-- Kindred: long (nullable = true)\n",
      " |-- LeeSin: long (nullable = true)\n",
      " |-- Lillia: long (nullable = true)\n",
      " |-- Lissandra: long (nullable = true)\n",
      " |-- Lulu: long (nullable = true)\n",
      " |-- Lux: long (nullable = true)\n",
      " |-- Maokai: long (nullable = true)\n",
      " |-- Morgana: long (nullable = true)\n",
      " |-- NaN: long (nullable = true)\n",
      " |-- Nami: long (nullable = true)\n",
      " |-- Nidalee: long (nullable = true)\n",
      " |-- Nunu: long (nullable = true)\n",
      " |-- Pyke: long (nullable = true)\n",
      " |-- Riven: long (nullable = true)\n",
      " |-- Sejuani: long (nullable = true)\n",
      " |-- Sett: long (nullable = true)\n",
      " |-- Shen: long (nullable = true)\n",
      " |-- Sylas: long (nullable = true)\n",
      " |-- TahmKench: long (nullable = true)\n",
      " |-- Talon: long (nullable = true)\n",
      " |-- Teemo: long (nullable = true)\n",
      " |-- Thresh: long (nullable = true)\n",
      " |-- TwistedFate: long (nullable = true)\n",
      " |-- Vayne: long (nullable = true)\n",
      " |-- Veigar: long (nullable = true)\n",
      " |-- Vi: long (nullable = true)\n",
      " |-- Warwick: long (nullable = true)\n",
      " |-- Wukong: long (nullable = true)\n",
      " |-- XinZhao: long (nullable = true)\n",
      " |-- Yasuo: long (nullable = true)\n",
      " |-- Yone: long (nullable = true)\n",
      " |-- Yuumi: long (nullable = true)\n",
      " |-- Zed: long (nullable = true)\n",
      " |-- Zilean: long (nullable = true)\n",
      "\n"
     ]
    }
   ],
   "source": [
    "df_pivot.printSchema()"
   ]
  },
  {
   "cell_type": "markdown",
   "id": "little-arizona",
   "metadata": {},
   "source": [
    "Load traits"
   ]
  },
  {
   "cell_type": "code",
   "execution_count": 10,
   "id": "through-digit",
   "metadata": {},
   "outputs": [
    {
     "name": "stdout",
     "output_type": "stream",
     "text": [
      "root\n",
      " |-- index: string (nullable = true)\n",
      " |-- Adept: long (nullable = true)\n",
      " |-- Assassin: long (nullable = true)\n",
      " |-- Boss: long (nullable = true)\n",
      " |-- Brawler: long (nullable = true)\n",
      " |-- Cultist: long (nullable = true)\n",
      " |-- Dazzler: long (nullable = true)\n",
      " |-- Divine: long (nullable = true)\n",
      " |-- Duelist: long (nullable = true)\n",
      " |-- Dusk: long (nullable = true)\n",
      " |-- Elderwood: long (nullable = true)\n",
      " |-- Emperor: long (nullable = true)\n",
      " |-- Enlightened: long (nullable = true)\n",
      " |-- Exile: long (nullable = true)\n",
      " |-- Fortune: long (nullable = true)\n",
      " |-- Hunter: long (nullable = true)\n",
      " |-- Keeper: long (nullable = true)\n",
      " |-- Mage: long (nullable = true)\n",
      " |-- Moonlight: long (nullable = true)\n",
      " |-- Mystic: long (nullable = true)\n",
      " |-- NaN: long (nullable = true)\n",
      " |-- Ninja: long (nullable = true)\n",
      " |-- Shade: long (nullable = true)\n",
      " |-- Sharpshooter: long (nullable = true)\n",
      " |-- Spirit: long (nullable = true)\n",
      " |-- Tormented: long (nullable = true)\n",
      " |-- Vanguard: long (nullable = true)\n",
      " |-- Warlord: long (nullable = true)\n",
      "\n"
     ]
    }
   ],
   "source": [
    "df=pd.read_csv('data_full_encoded_traits.csv', index_col=0).reset_index()\n",
    "\n",
    "df_schema = StructType([StructField(\"index\", StringType(), True),\n",
    "                        StructField(\"traits_level\", IntegerType(), True),\n",
    "                        StructField(\"traits_lst\", StringType(), True)])\n",
    "\n",
    "dfs = spark.createDataFrame(df, schema=df_schema)\n",
    "\n",
    "df_pivot2=dfs.groupBy(\"index\").pivot(\"traits_lst\").sum(\"traits_level\")\n",
    "\n",
    "df_pivot2.printSchema()"
   ]
  },
  {
   "cell_type": "markdown",
   "id": "green-guide",
   "metadata": {},
   "source": [
    "Load data"
   ]
  },
  {
   "cell_type": "code",
   "execution_count": 11,
   "id": "heavy-shelf",
   "metadata": {},
   "outputs": [],
   "source": [
    "data=pd.read_csv('data_modificato.csv', index_col=0).reset_index()"
   ]
  },
  {
   "cell_type": "code",
   "execution_count": 12,
   "id": "constant-adventure",
   "metadata": {},
   "outputs": [],
   "source": [
    "df_schema = StructType([StructField(\"index\", StringType(), True),\n",
    "                        StructField(\"patch_version\", StringType(), True),\n",
    "                        StructField(\"match_id\", StringType(), True),\n",
    "                        StructField(\"puuid\", StringType(), True),\n",
    "                        StructField(\"placement\", IntegerType(), True),\n",
    "                        StructField(\"level\", IntegerType(), True),\n",
    "                        StructField(\"gold_left\", IntegerType(), True),\n",
    "                        StructField(\"last_round\", IntegerType(), True),\n",
    "                        StructField(\"time_in_game\", FloatType(), True),\n",
    "                        StructField(\"total_dmg_to_players\", IntegerType(), True),\n",
    "                        StructField(\"players_eliminated\", IntegerType(), True),\n",
    "                        StructField(\"chosen_unit\", StringType(), True),\n",
    "                        StructField(\"chosen_trait\", StringType(), True),\n",
    "                        StructField(\"units\", StringType(), True),\n",
    "                        StructField(\"traits\", StringType(), True),\n",
    "                        StructField(\"units_lst\", StringType(), True),\n",
    "                        StructField(\"levels\", StringType(), True),\n",
    "                        StructField(\"traits_lst\", StringType(), True),\n",
    "                        StructField(\"traits_level\", StringType(), True)])\n",
    "\n",
    "data_spark = spark.createDataFrame(data, schema=df_schema)"
   ]
  },
  {
   "cell_type": "code",
   "execution_count": 13,
   "id": "civil-comfort",
   "metadata": {},
   "outputs": [],
   "source": [
    "data_spark=data_spark.drop('units', 'traits', 'units_lst', 'levels', 'traits_lst', 'traits_level')"
   ]
  },
  {
   "cell_type": "markdown",
   "id": "valuable-feedback",
   "metadata": {},
   "source": [
    "Merge datasets"
   ]
  },
  {
   "cell_type": "code",
   "execution_count": 14,
   "id": "binary-pencil",
   "metadata": {},
   "outputs": [],
   "source": [
    "data_final=data_spark.join(df_pivot, on='index')\n",
    "data_final=data_final.join(df_pivot2, on='index')"
   ]
  },
  {
   "cell_type": "code",
   "execution_count": 15,
   "id": "emotional-cause",
   "metadata": {},
   "outputs": [
    {
     "name": "stdout",
     "output_type": "stream",
     "text": [
      "root\n",
      " |-- index: string (nullable = true)\n",
      " |-- patch_version: string (nullable = true)\n",
      " |-- match_id: string (nullable = true)\n",
      " |-- puuid: string (nullable = true)\n",
      " |-- placement: integer (nullable = true)\n",
      " |-- level: integer (nullable = true)\n",
      " |-- gold_left: integer (nullable = true)\n",
      " |-- last_round: integer (nullable = true)\n",
      " |-- time_in_game: float (nullable = true)\n",
      " |-- total_dmg_to_players: integer (nullable = true)\n",
      " |-- players_eliminated: integer (nullable = true)\n",
      " |-- chosen_unit: string (nullable = true)\n",
      " |-- chosen_trait: string (nullable = true)\n",
      " |-- Aatrox: long (nullable = true)\n",
      " |-- Ahri: long (nullable = true)\n",
      " |-- Akali: long (nullable = true)\n",
      " |-- Annie: long (nullable = true)\n",
      " |-- Aphelios: long (nullable = true)\n",
      " |-- Ashe: long (nullable = true)\n",
      " |-- Azir: long (nullable = true)\n",
      " |-- Cassiopeia: long (nullable = true)\n",
      " |-- Diana: long (nullable = true)\n",
      " |-- Elise: long (nullable = true)\n",
      " |-- Evelynn: long (nullable = true)\n",
      " |-- Ezreal: long (nullable = true)\n",
      " |-- Fiora: long (nullable = true)\n",
      " |-- Garen: long (nullable = true)\n",
      " |-- Hecarim: long (nullable = true)\n",
      " |-- Irelia: long (nullable = true)\n",
      " |-- Janna: long (nullable = true)\n",
      " |-- JarvanIV: long (nullable = true)\n",
      " |-- Jax: long (nullable = true)\n",
      " |-- Jhin: long (nullable = true)\n",
      " |-- Jinx: long (nullable = true)\n",
      " |-- Kalista: long (nullable = true)\n",
      " |-- Katarina: long (nullable = true)\n",
      " |-- Kayn: long (nullable = true)\n",
      " |-- Kennen: long (nullable = true)\n",
      " |-- Kindred: long (nullable = true)\n",
      " |-- LeeSin: long (nullable = true)\n",
      " |-- Lillia: long (nullable = true)\n",
      " |-- Lissandra: long (nullable = true)\n",
      " |-- Lulu: long (nullable = true)\n",
      " |-- Lux: long (nullable = true)\n",
      " |-- Maokai: long (nullable = true)\n",
      " |-- Morgana: long (nullable = true)\n",
      " |-- NaN: long (nullable = true)\n",
      " |-- Nami: long (nullable = true)\n",
      " |-- Nidalee: long (nullable = true)\n",
      " |-- Nunu: long (nullable = true)\n",
      " |-- Pyke: long (nullable = true)\n",
      " |-- Riven: long (nullable = true)\n",
      " |-- Sejuani: long (nullable = true)\n",
      " |-- Sett: long (nullable = true)\n",
      " |-- Shen: long (nullable = true)\n",
      " |-- Sylas: long (nullable = true)\n",
      " |-- TahmKench: long (nullable = true)\n",
      " |-- Talon: long (nullable = true)\n",
      " |-- Teemo: long (nullable = true)\n",
      " |-- Thresh: long (nullable = true)\n",
      " |-- TwistedFate: long (nullable = true)\n",
      " |-- Vayne: long (nullable = true)\n",
      " |-- Veigar: long (nullable = true)\n",
      " |-- Vi: long (nullable = true)\n",
      " |-- Warwick: long (nullable = true)\n",
      " |-- Wukong: long (nullable = true)\n",
      " |-- XinZhao: long (nullable = true)\n",
      " |-- Yasuo: long (nullable = true)\n",
      " |-- Yone: long (nullable = true)\n",
      " |-- Yuumi: long (nullable = true)\n",
      " |-- Zed: long (nullable = true)\n",
      " |-- Zilean: long (nullable = true)\n",
      " |-- Adept: long (nullable = true)\n",
      " |-- Assassin: long (nullable = true)\n",
      " |-- Boss: long (nullable = true)\n",
      " |-- Brawler: long (nullable = true)\n",
      " |-- Cultist: long (nullable = true)\n",
      " |-- Dazzler: long (nullable = true)\n",
      " |-- Divine: long (nullable = true)\n",
      " |-- Duelist: long (nullable = true)\n",
      " |-- Dusk: long (nullable = true)\n",
      " |-- Elderwood: long (nullable = true)\n",
      " |-- Emperor: long (nullable = true)\n",
      " |-- Enlightened: long (nullable = true)\n",
      " |-- Exile: long (nullable = true)\n",
      " |-- Fortune: long (nullable = true)\n",
      " |-- Hunter: long (nullable = true)\n",
      " |-- Keeper: long (nullable = true)\n",
      " |-- Mage: long (nullable = true)\n",
      " |-- Moonlight: long (nullable = true)\n",
      " |-- Mystic: long (nullable = true)\n",
      " |-- NaN: long (nullable = true)\n",
      " |-- Ninja: long (nullable = true)\n",
      " |-- Shade: long (nullable = true)\n",
      " |-- Sharpshooter: long (nullable = true)\n",
      " |-- Spirit: long (nullable = true)\n",
      " |-- Tormented: long (nullable = true)\n",
      " |-- Vanguard: long (nullable = true)\n",
      " |-- Warlord: long (nullable = true)\n",
      "\n"
     ]
    }
   ],
   "source": [
    "data_final.printSchema()"
   ]
  },
  {
   "cell_type": "code",
   "execution_count": 16,
   "id": "absolute-operations",
   "metadata": {},
   "outputs": [],
   "source": [
    "data_final = data_final.filter((data_final.patch_version != '11.10') & (data_final.patch_version != '10.19'))"
   ]
  },
  {
   "cell_type": "markdown",
   "id": "supposed-springer",
   "metadata": {},
   "source": [
    "## Plots"
   ]
  },
  {
   "cell_type": "code",
   "execution_count": 17,
   "id": "architectural-vancouver",
   "metadata": {},
   "outputs": [],
   "source": [
    "import matplotlib.pyplot as plt"
   ]
  },
  {
   "cell_type": "code",
   "execution_count": 55,
   "id": "involved-newfoundland",
   "metadata": {
    "scrolled": true
   },
   "outputs": [
    {
     "data": {
      "image/png": "[encoded data removed]",
      "text/plain": [
       "<Figure size 432x288 with 1 Axes>"
      ]
     },
     "metadata": {
      "needs_background": "light"
     },
     "output_type": "display_data"
    }
   ],
   "source": [
    "patch=data.patch_version.value_counts().reset_index()\n",
    "plt.bar(patch['index'].apply(str), patch.patch_version)\n",
    "plt.show()"
   ]
  },
  {
   "cell_type": "code",
   "execution_count": 56,
   "id": "fluid-authentication",
   "metadata": {},
   "outputs": [
    {
     "data": {
      "image/png": "[encoded data removed]",
      "text/plain": [
       "<Figure size 432x288 with 1 Axes>"
      ]
     },
     "metadata": {
      "needs_background": "light"
     },
     "output_type": "display_data"
    }
   ],
   "source": [
    "plt.hist(data.level)\n",
    "plt.show()"
   ]
  },
  {
   "cell_type": "code",
   "execution_count": 57,
   "id": "possible-manufacturer",
   "metadata": {
    "scrolled": true
   },
   "outputs": [
    {
     "data": {
      "image/png": "[encoded data removed]",
      "text/plain": [
       "<Figure size 432x288 with 1 Axes>"
      ]
     },
     "metadata": {
      "needs_background": "light"
     },
     "output_type": "display_data"
    }
   ],
   "source": [
    "plt.hist(data.gold_left)\n",
    "plt.show()"
   ]
  },
  {
   "cell_type": "code",
   "execution_count": 58,
   "id": "tough-committee",
   "metadata": {},
   "outputs": [
    {
     "data": {
      "text/plain": [
       "[]"
      ]
     },
     "execution_count": 58,
     "metadata": {},
     "output_type": "execute_result"
    },
    {
     "data": {
      "image/png": "[encoded data removed]",
      "text/plain": [
       "<Figure size 432x288 with 1 Axes>"
      ]
     },
     "metadata": {
      "needs_background": "light"
     },
     "output_type": "display_data"
    }
   ],
   "source": [
    "plt.hist(data.last_round)\n",
    "plt.plot()"
   ]
  },
  {
   "cell_type": "code",
   "execution_count": 59,
   "id": "talented-plasma",
   "metadata": {
    "scrolled": true
   },
   "outputs": [
    {
     "data": {
      "image/png": "[encoded data removed]",
      "text/plain": [
       "<Figure size 432x288 with 1 Axes>"
      ]
     },
     "metadata": {
      "needs_background": "light"
     },
     "output_type": "display_data"
    }
   ],
   "source": [
    "plt.hist(data.time_in_game)\n",
    "plt.show()"
   ]
  },
  {
   "cell_type": "code",
   "execution_count": 60,
   "id": "occupied-geometry",
   "metadata": {
    "scrolled": true
   },
   "outputs": [
    {
     "data": {
      "image/png": "[encoded data removed]",
      "text/plain": [
       "<Figure size 432x288 with 1 Axes>"
      ]
     },
     "metadata": {
      "needs_background": "light"
     },
     "output_type": "display_data"
    }
   ],
   "source": [
    "plt.hist(data.total_dmg_to_players)\n",
    "plt.show()"
   ]
  },
  {
   "cell_type": "code",
   "execution_count": 61,
   "id": "instrumental-liability",
   "metadata": {
    "scrolled": false
   },
   "outputs": [
    {
     "data": {
      "image/png": "[encoded data removed]",
      "text/plain": [
       "<Figure size 432x288 with 1 Axes>"
      ]
     },
     "metadata": {
      "needs_background": "light"
     },
     "output_type": "display_data"
    }
   ],
   "source": [
    "plt.hist(data.players_eliminated)\n",
    "plt.show()"
   ]
  },
  {
   "cell_type": "code",
   "execution_count": 1,
   "id": "assisted-groove",
   "metadata": {},
   "outputs": [
    {
     "ename": "NameError",
     "evalue": "name 'data' is not defined",
     "output_type": "error",
     "traceback": [
      "\u001b[0;31m---------------------------------------------------------------------------\u001b[0m",
      "\u001b[0;31mNameError\u001b[0m                                 Traceback (most recent call last)",
      "\u001b[0;32m<ipython-input-1-c44ded798807>\u001b[0m in \u001b[0;36m<module>\u001b[0;34m\u001b[0m\n\u001b[0;32m----> 1\u001b[0;31m \u001b[0mdata\u001b[0m\u001b[0;34m.\u001b[0m\u001b[0mcorr\u001b[0m\u001b[0;34m(\u001b[0m\u001b[0;34m)\u001b[0m\u001b[0;34m\u001b[0m\u001b[0;34m\u001b[0m\u001b[0m\n\u001b[0m",
      "\u001b[0;31mNameError\u001b[0m: name 'data' is not defined"
     ]
    }
   ],
   "source": [
    "data.corr()"
   ]
  },
  {
   "cell_type": "markdown",
   "id": "adopted-legislature",
   "metadata": {},
   "source": [
    "## Clustering"
   ]
  },
  {
   "cell_type": "code",
   "execution_count": 18,
   "id": "specific-newport",
   "metadata": {},
   "outputs": [],
   "source": [
    "from pyspark.ml.evaluation import ClusteringEvaluator\n",
    "from pyspark.ml.classification import RandomForestClassifier\n",
    "from pyspark.ml.feature import IndexToString, StringIndexer, VectorIndexer\n",
    "from pyspark.ml.evaluation import MulticlassClassificationEvaluator\n",
    "from pyspark.sql import SparkSession"
   ]
  },
  {
   "cell_type": "code",
   "execution_count": 19,
   "id": "lightweight-favorite",
   "metadata": {},
   "outputs": [],
   "source": [
    "data_final=data_final.drop('NaN')"
   ]
  },
  {
   "cell_type": "code",
   "execution_count": 20,
   "id": "modern-minister",
   "metadata": {},
   "outputs": [
    {
     "name": "stdout",
     "output_type": "stream",
     "text": [
      "root\n",
      " |-- index: string (nullable = true)\n",
      " |-- patch_version: string (nullable = true)\n",
      " |-- match_id: string (nullable = true)\n",
      " |-- puuid: string (nullable = true)\n",
      " |-- placement: integer (nullable = true)\n",
      " |-- level: integer (nullable = true)\n",
      " |-- gold_left: integer (nullable = true)\n",
      " |-- last_round: integer (nullable = true)\n",
      " |-- time_in_game: float (nullable = true)\n",
      " |-- total_dmg_to_players: integer (nullable = true)\n",
      " |-- players_eliminated: integer (nullable = true)\n",
      " |-- chosen_unit: string (nullable = true)\n",
      " |-- chosen_trait: string (nullable = true)\n",
      " |-- Aatrox: long (nullable = true)\n",
      " |-- Ahri: long (nullable = true)\n",
      " |-- Akali: long (nullable = true)\n",
      " |-- Annie: long (nullable = true)\n",
      " |-- Aphelios: long (nullable = true)\n",
      " |-- Ashe: long (nullable = true)\n",
      " |-- Azir: long (nullable = true)\n",
      " |-- Cassiopeia: long (nullable = true)\n",
      " |-- Diana: long (nullable = true)\n",
      " |-- Elise: long (nullable = true)\n",
      " |-- Evelynn: long (nullable = true)\n",
      " |-- Ezreal: long (nullable = true)\n",
      " |-- Fiora: long (nullable = true)\n",
      " |-- Garen: long (nullable = true)\n",
      " |-- Hecarim: long (nullable = true)\n",
      " |-- Irelia: long (nullable = true)\n",
      " |-- Janna: long (nullable = true)\n",
      " |-- JarvanIV: long (nullable = true)\n",
      " |-- Jax: long (nullable = true)\n",
      " |-- Jhin: long (nullable = true)\n",
      " |-- Jinx: long (nullable = true)\n",
      " |-- Kalista: long (nullable = true)\n",
      " |-- Katarina: long (nullable = true)\n",
      " |-- Kayn: long (nullable = true)\n",
      " |-- Kennen: long (nullable = true)\n",
      " |-- Kindred: long (nullable = true)\n",
      " |-- LeeSin: long (nullable = true)\n",
      " |-- Lillia: long (nullable = true)\n",
      " |-- Lissandra: long (nullable = true)\n",
      " |-- Lulu: long (nullable = true)\n",
      " |-- Lux: long (nullable = true)\n",
      " |-- Maokai: long (nullable = true)\n",
      " |-- Morgana: long (nullable = true)\n",
      " |-- Nami: long (nullable = true)\n",
      " |-- Nidalee: long (nullable = true)\n",
      " |-- Nunu: long (nullable = true)\n",
      " |-- Pyke: long (nullable = true)\n",
      " |-- Riven: long (nullable = true)\n",
      " |-- Sejuani: long (nullable = true)\n",
      " |-- Sett: long (nullable = true)\n",
      " |-- Shen: long (nullable = true)\n",
      " |-- Sylas: long (nullable = true)\n",
      " |-- TahmKench: long (nullable = true)\n",
      " |-- Talon: long (nullable = true)\n",
      " |-- Teemo: long (nullable = true)\n",
      " |-- Thresh: long (nullable = true)\n",
      " |-- TwistedFate: long (nullable = true)\n",
      " |-- Vayne: long (nullable = true)\n",
      " |-- Veigar: long (nullable = true)\n",
      " |-- Vi: long (nullable = true)\n",
      " |-- Warwick: long (nullable = true)\n",
      " |-- Wukong: long (nullable = true)\n",
      " |-- XinZhao: long (nullable = true)\n",
      " |-- Yasuo: long (nullable = true)\n",
      " |-- Yone: long (nullable = true)\n",
      " |-- Yuumi: long (nullable = true)\n",
      " |-- Zed: long (nullable = true)\n",
      " |-- Zilean: long (nullable = true)\n",
      " |-- Adept: long (nullable = true)\n",
      " |-- Assassin: long (nullable = true)\n",
      " |-- Boss: long (nullable = true)\n",
      " |-- Brawler: long (nullable = true)\n",
      " |-- Cultist: long (nullable = true)\n",
      " |-- Dazzler: long (nullable = true)\n",
      " |-- Divine: long (nullable = true)\n",
      " |-- Duelist: long (nullable = true)\n",
      " |-- Dusk: long (nullable = true)\n",
      " |-- Elderwood: long (nullable = true)\n",
      " |-- Emperor: long (nullable = true)\n",
      " |-- Enlightened: long (nullable = true)\n",
      " |-- Exile: long (nullable = true)\n",
      " |-- Fortune: long (nullable = true)\n",
      " |-- Hunter: long (nullable = true)\n",
      " |-- Keeper: long (nullable = true)\n",
      " |-- Mage: long (nullable = true)\n",
      " |-- Moonlight: long (nullable = true)\n",
      " |-- Mystic: long (nullable = true)\n",
      " |-- Ninja: long (nullable = true)\n",
      " |-- Shade: long (nullable = true)\n",
      " |-- Sharpshooter: long (nullable = true)\n",
      " |-- Spirit: long (nullable = true)\n",
      " |-- Tormented: long (nullable = true)\n",
      " |-- Vanguard: long (nullable = true)\n",
      " |-- Warlord: long (nullable = true)\n",
      "\n"
     ]
    }
   ],
   "source": [
    "data_final.printSchema()"
   ]
  },
  {
   "cell_type": "code",
   "execution_count": 21,
   "id": "unusual-specific",
   "metadata": {},
   "outputs": [],
   "source": [
    "data_final_clean = data_final.fillna(float(0))"
   ]
  },
  {
   "cell_type": "code",
   "execution_count": 22,
   "id": "different-space",
   "metadata": {},
   "outputs": [],
   "source": [
    "data_final_clean = data_final_clean.na.fill(value=0)"
   ]
  },
  {
   "cell_type": "code",
   "execution_count": 23,
   "id": "pursuant-newsletter",
   "metadata": {},
   "outputs": [],
   "source": [
    "data_class = data_final_clean.drop('patch_version', 'match_id', 'puuid','chosen_unit','chosen_trait','placement','level','gold_left', 'last_round', 'time_in_game', 'total_dmg_to_players', 'players_eliminated')"
   ]
  },
  {
   "cell_type": "code",
   "execution_count": null,
   "id": "hairy-african",
   "metadata": {},
   "outputs": [],
   "source": [
    "#from pyspark.ml.classification import RandomForestClassifier\n",
    "#from pyspark.ml.feature import IndexToString, StringIndexer, VectorIndexer\n",
    "#from pyspark.ml.evaluation import MulticlassClassificationEvaluator\n",
    "#from pyspark.sql import SparkSession"
   ]
  },
  {
   "cell_type": "code",
   "execution_count": 24,
   "id": "chinese-neighbor",
   "metadata": {
    "scrolled": true
   },
   "outputs": [],
   "source": [
    "# Non termina, la quantità di colonne dopo il pivot potrebbe essere il problema (si dovrebbe eliminare il numero a destra corrispondente all'item\n",
    "# posseduto dal personaggio per evitare che un giocatore abbia vayne_1 vayne_14, ecc..)\n",
    "\n",
    "cols_in = [col for col in data_class.columns if col != 'index']\n",
    "\n",
    "assembler = VectorAssembler(inputCols=cols_in, outputCol=\"features\", handleInvalid=\"skip\")\n",
    "\n",
    "output_data_class = assembler.transform(data_class).select('index', 'features')"
   ]
  },
  {
   "cell_type": "code",
   "execution_count": 25,
   "id": "intermediate-typing",
   "metadata": {},
   "outputs": [
    {
     "name": "stdout",
     "output_type": "stream",
     "text": [
      "+------+--------------------+\n",
      "| index|            features|\n",
      "+------+--------------------+\n",
      "|100010|(84,[2,8,22,28,36...|\n",
      "|100140|(84,[7,19,20,37,3...|\n",
      "|100227|(84,[0,1,3,7,38,4...|\n",
      "+------+--------------------+\n",
      "only showing top 3 rows\n",
      "\n"
     ]
    }
   ],
   "source": [
    "output_data_class.show(3)"
   ]
  },
  {
   "cell_type": "code",
   "execution_count": 33,
   "id": "biological-armor",
   "metadata": {},
   "outputs": [],
   "source": [
    "size =[]\n",
    "cost=[]\n",
    "for i in range(2,15):\n",
    "    model= KMeans(k=i)\n",
    "    model.setMaxIter(10)\n",
    "    #model.setDistanceMeasure('cosine')\n",
    "    out = model.fit(output_data_class)\n",
    "    summary = out.summary\n",
    "    size.append(summary.clusterSizes)\n",
    "    cost.append(summary.trainingCost)\n",
    "    "
   ]
  },
  {
   "cell_type": "code",
   "execution_count": 36,
   "id": "homeless-caution",
   "metadata": {},
   "outputs": [
    {
     "data": {
      "text/plain": [
       "[<matplotlib.lines.Line2D at 0x7f394f733490>]"
      ]
     },
     "execution_count": 36,
     "metadata": {},
     "output_type": "execute_result"
    },
    {
     "data": {
      "image/png": "[encoded data removed]",
      "text/plain": [
       "<Figure size 432x288 with 1 Axes>"
      ]
     },
     "metadata": {
      "needs_background": "light"
     },
     "output_type": "display_data"
    }
   ],
   "source": [
    "plt.plot(range(2,15), cost)"
   ]
  },
  {
   "cell_type": "code",
   "execution_count": 25,
   "id": "foreign-hungary",
   "metadata": {},
   "outputs": [],
   "source": [
    "model= KMeans(k=9)\n",
    "model.setMaxIter(10)\n",
    "#model.setDistanceMeasure('cosine')\n",
    "out = model.fit(output_data_class)"
   ]
  },
  {
   "cell_type": "code",
   "execution_count": 26,
   "id": "defined-wright",
   "metadata": {},
   "outputs": [],
   "source": [
    "predictions = out.transform(output_data_class)"
   ]
  },
  {
   "cell_type": "code",
   "execution_count": null,
   "id": "parliamentary-final",
   "metadata": {},
   "outputs": [],
   "source": [
    "predictions.show()"
   ]
  },
  {
   "cell_type": "code",
   "execution_count": 27,
   "id": "stuck-sessions",
   "metadata": {},
   "outputs": [],
   "source": [
    "data_final=data_final.join(predictions, on='index')"
   ]
  },
  {
   "cell_type": "code",
   "execution_count": null,
   "id": "female-clark",
   "metadata": {},
   "outputs": [],
   "source": [
    "data_final.count()"
   ]
  },
  {
   "cell_type": "code",
   "execution_count": 30,
   "id": "defensive-banana",
   "metadata": {},
   "outputs": [
    {
     "name": "stdout",
     "output_type": "stream",
     "text": [
      "Aatrox\n",
      "Azir\n",
      "Cassiopeia\n",
      "Jhin\n",
      "Lillia\n",
      "Riven\n",
      "Thresh\n",
      "Vayne\n",
      "Zilean\n",
      "Cultist\n",
      "Dusk\n",
      "Keeper\n",
      "Mystic\n",
      "Sharpshooter\n",
      "Vanguard\n",
      "Warlord\n",
      "_______\n",
      "Akali\n",
      "Aphelios\n",
      "Diana\n",
      "Irelia\n",
      "Kindred\n",
      "Lissandra\n",
      "Lux\n",
      "Pyke\n",
      "Sylas\n",
      "Yuumi\n",
      "Adept\n",
      "Assassin\n",
      "Brawler\n",
      "Cultist\n",
      "Dazzler\n",
      "Divine\n",
      "Enlightened\n",
      "Hunter\n",
      "Moonlight\n",
      "Mystic\n",
      "Ninja\n",
      "Spirit\n",
      "_______\n",
      "Jhin\n",
      "Jinx\n",
      "Nidalee\n",
      "Sejuani\n",
      "Teemo\n",
      "Thresh\n",
      "Vayne\n",
      "Cultist\n",
      "Dusk\n",
      "Fortune\n",
      "Keeper\n",
      "Mystic\n",
      "Sharpshooter\n",
      "Spirit\n",
      "Vanguard\n",
      "Warlord\n",
      "_______\n",
      "Irelia\n",
      "Janna\n",
      "Jax\n",
      "Lux\n",
      "Morgana\n",
      "Shen\n",
      "Warwick\n",
      "Yone\n",
      "Adept\n",
      "Brawler\n",
      "Cultist\n",
      "Dazzler\n",
      "Divine\n",
      "Duelist\n",
      "Elderwood\n",
      "Enlightened\n",
      "Exile\n",
      "Hunter\n",
      "Mystic\n",
      "Ninja\n",
      "_______\n",
      "Aatrox\n",
      "Ahri\n",
      "Annie\n",
      "Cassiopeia\n",
      "Lulu\n",
      "Sejuani\n",
      "Shen\n",
      "Thresh\n",
      "Yuumi\n",
      "Adept\n",
      "Cultist\n",
      "Dusk\n",
      "Elderwood\n",
      "Enlightened\n",
      "Fortune\n",
      "Mage\n",
      "Mystic\n",
      "Spirit\n",
      "Vanguard\n",
      "_______\n",
      "Ashe\n",
      "Ezreal\n",
      "Hecarim\n",
      "Kindred\n",
      "Lulu\n",
      "Maokai\n",
      "Nunu\n",
      "Sett\n",
      "Veigar\n",
      "Warwick\n",
      "Brawler\n",
      "Dazzler\n",
      "Divine\n",
      "Elderwood\n",
      "Hunter\n",
      "Mage\n",
      "_______\n",
      "Akali\n",
      "Evelynn\n",
      "Kennen\n",
      "Pyke\n",
      "Shen\n",
      "Zed\n",
      "Adept\n",
      "Assassin\n",
      "Cultist\n",
      "Keeper\n",
      "Mystic\n",
      "Ninja\n",
      "Shade\n",
      "_______\n",
      "Aatrox\n",
      "Elise\n",
      "Evelynn\n",
      "Jhin\n",
      "Kalista\n",
      "Pyke\n",
      "TwistedFate\n",
      "Zilean\n",
      "Assassin\n",
      "Cultist\n",
      "Duelist\n",
      "Dusk\n",
      "Keeper\n",
      "Mage\n",
      "Mystic\n",
      "Shade\n",
      "Sharpshooter\n",
      "Vanguard\n",
      "_______\n",
      "Azir\n",
      "Garen\n",
      "JarvanIV\n",
      "Katarina\n",
      "Nidalee\n",
      "Pyke\n",
      "Vi\n",
      "XinZhao\n",
      "Assassin\n",
      "Brawler\n",
      "Cultist\n",
      "Duelist\n",
      "Emperor\n",
      "Fortune\n",
      "Keeper\n",
      "Sharpshooter\n",
      "Vanguard\n",
      "Warlord\n",
      "_______\n"
     ]
    }
   ],
   "source": [
    "centroid = out.clusterCenters()\n",
    "for c in centroid:\n",
    "    for i in range(len(cols_in)):\n",
    "        if [x > 0.6 for x in c][i] == True:\n",
    "    \n",
    "            \n",
    "            print(cols_in[i])\n",
    "    print(\"_______\")\n",
    "    "
   ]
  },
  {
   "cell_type": "code",
   "execution_count": 41,
   "id": "central-quebec",
   "metadata": {},
   "outputs": [
    {
     "name": "stdout",
     "output_type": "stream",
     "text": [
      "9\n",
      "[22274, 48343, 29604, 82027, 192068, 48168, 229594, 33450, 40704]\n",
      "21538446.2345162\n"
     ]
    }
   ],
   "source": [
    "summary = out.summary\n",
    "print(summary.k)\n",
    "print(summary.clusterSizes)\n",
    "print(summary.trainingCost)"
   ]
  },
  {
   "cell_type": "code",
   "execution_count": 43,
   "id": "blond-damage",
   "metadata": {},
   "outputs": [
    {
     "name": "stdout",
     "output_type": "stream",
     "text": [
      "+----------+--------------+\n",
      "|prediction|min(placement)|\n",
      "+----------+--------------+\n",
      "|         1|             1|\n",
      "|         6|             1|\n",
      "|         3|             1|\n",
      "|         5|             1|\n",
      "|         4|             1|\n",
      "|         8|             1|\n",
      "|         7|             1|\n",
      "|         2|             1|\n",
      "|         0|             1|\n",
      "+----------+--------------+\n",
      "\n"
     ]
    }
   ],
   "source": [
    "data_final.groupBy('prediction').min('placement').show()"
   ]
  },
  {
   "cell_type": "code",
   "execution_count": 42,
   "id": "surface-thesis",
   "metadata": {},
   "outputs": [
    {
     "name": "stdout",
     "output_type": "stream",
     "text": [
      "+----------+------------------+\n",
      "|prediction|    avg(placement)|\n",
      "+----------+------------------+\n",
      "|         1| 4.614732225968599|\n",
      "|         6| 4.542675331236879|\n",
      "|         3| 4.618649956721567|\n",
      "|         5| 4.478595748214582|\n",
      "|         4|  4.38888831039007|\n",
      "|         8|4.4847926493710695|\n",
      "|         7| 4.548729446935725|\n",
      "|         2| 4.375658694770977|\n",
      "|         0| 4.498428661219359|\n",
      "+----------+------------------+\n",
      "\n"
     ]
    }
   ],
   "source": [
    "data_final.groupBy('prediction').avg('placement').show()"
   ]
  },
  {
   "cell_type": "code",
   "execution_count": 44,
   "id": "likely-justice",
   "metadata": {},
   "outputs": [
    {
     "name": "stdout",
     "output_type": "stream",
     "text": [
      "+----------+--------------+\n",
      "|prediction|max(placement)|\n",
      "+----------+--------------+\n",
      "|         1|             8|\n",
      "|         6|             8|\n",
      "|         3|             8|\n",
      "|         5|             8|\n",
      "|         4|             8|\n",
      "|         8|             8|\n",
      "|         7|             8|\n",
      "|         2|             8|\n",
      "|         0|             8|\n",
      "+----------+--------------+\n",
      "\n"
     ]
    }
   ],
   "source": [
    "data_final.groupBy('prediction').max('placement').show()"
   ]
  },
  {
   "cell_type": "code",
   "execution_count": 45,
   "id": "previous-vocabulary",
   "metadata": {},
   "outputs": [
    {
     "name": "stdout",
     "output_type": "stream",
     "text": [
      "+----------+------+\n",
      "|prediction|median|\n",
      "+----------+------+\n",
      "|         1|     5|\n",
      "|         6|     5|\n",
      "|         3|     5|\n",
      "|         5|     4|\n",
      "|         4|     4|\n",
      "|         8|     4|\n",
      "|         7|     5|\n",
      "|         2|     4|\n",
      "|         0|     5|\n",
      "+----------+------+\n",
      "\n"
     ]
    }
   ],
   "source": [
    "import pyspark.sql.functions as func    \n",
    "\n",
    "data_final.groupBy(\"prediction\").agg(func.percentile_approx(\"placement\", 0.5).alias(\"median\")).show()\n"
   ]
  },
  {
   "cell_type": "code",
   "execution_count": 31,
   "id": "active-daily",
   "metadata": {},
   "outputs": [],
   "source": [
    "model= KMeans(k=4)\n",
    "model.setMaxIter(10)\n",
    "#model.setDistanceMeasure('cosine')\n",
    "out = model.fit(output_data_class)"
   ]
  },
  {
   "cell_type": "code",
   "execution_count": 32,
   "id": "alleged-jaguar",
   "metadata": {},
   "outputs": [
    {
     "name": "stdout",
     "output_type": "stream",
     "text": [
      "Ashe\n",
      "Irelia\n",
      "Jax\n",
      "Kindred\n",
      "Lux\n",
      "Shen\n",
      "Warwick\n",
      "Yone\n",
      "Adept\n",
      "Brawler\n",
      "Dazzler\n",
      "Divine\n",
      "Duelist\n",
      "Elderwood\n",
      "Enlightened\n",
      "Exile\n",
      "Hunter\n",
      "Mystic\n",
      "Ninja\n",
      "Spirit\n",
      "_______\n",
      "Aatrox\n",
      "Azir\n",
      "Cassiopeia\n",
      "Jhin\n",
      "Riven\n",
      "Sejuani\n",
      "Thresh\n",
      "Vayne\n",
      "Cultist\n",
      "Dusk\n",
      "Fortune\n",
      "Keeper\n",
      "Mage\n",
      "Mystic\n",
      "Sharpshooter\n",
      "Vanguard\n",
      "Warlord\n",
      "_______\n",
      "Akali\n",
      "Diana\n",
      "Irelia\n",
      "Janna\n",
      "Lux\n",
      "Morgana\n",
      "Pyke\n",
      "Shen\n",
      "Talon\n",
      "Zed\n",
      "Adept\n",
      "Assassin\n",
      "Cultist\n",
      "Dazzler\n",
      "Divine\n",
      "Enlightened\n",
      "Keeper\n",
      "Moonlight\n",
      "Mystic\n",
      "Ninja\n",
      "Shade\n",
      "_______\n",
      "Annie\n",
      "Ashe\n",
      "Hecarim\n",
      "Lulu\n",
      "Maokai\n",
      "Nunu\n",
      "Veigar\n",
      "Warwick\n",
      "Brawler\n",
      "Divine\n",
      "Elderwood\n",
      "Hunter\n",
      "Mage\n",
      "Spirit\n",
      "_______\n"
     ]
    },
    {
     "name": "stderr",
     "output_type": "stream",
     "text": [
      "----------------------------------------\n",
      "Exception happened during processing of request from ('127.0.0.1', 59962)\n",
      "Traceback (most recent call last):\n",
      "  File \"/usr/lib/python3.8/socketserver.py\", line 316, in _handle_request_noblock\n",
      "    self.process_request(request, client_address)\n",
      "  File \"/usr/lib/python3.8/socketserver.py\", line 347, in process_request\n",
      "    self.finish_request(request, client_address)\n",
      "  File \"/usr/lib/python3.8/socketserver.py\", line 360, in finish_request\n",
      "    self.RequestHandlerClass(request, client_address, self)\n",
      "  File \"/usr/lib/python3.8/socketserver.py\", line 747, in __init__\n",
      "    self.handle()\n",
      "  File \"/home/hpsa13/.local/lib/python3.8/site-packages/pyspark/accumulators.py\", line 262, in handle\n",
      "    poll(accum_updates)\n",
      "  File \"/home/hpsa13/.local/lib/python3.8/site-packages/pyspark/accumulators.py\", line 235, in poll\n",
      "    if func():\n",
      "  File \"/home/hpsa13/.local/lib/python3.8/site-packages/pyspark/accumulators.py\", line 239, in accum_updates\n",
      "    num_updates = read_int(self.rfile)\n",
      "  File \"/home/hpsa13/.local/lib/python3.8/site-packages/pyspark/serializers.py\", line 564, in read_int\n",
      "    raise EOFError\n",
      "EOFError\n",
      "----------------------------------------\n"
     ]
    }
   ],
   "source": [
    "predictions4 = out.transform(output_data_class)\n",
    "#data_final=data_final.join(predictions4, on='index')\n",
    "\n",
    "centroid = out.clusterCenters()\n",
    "for c in centroid:\n",
    "    for i in range(len(cols_in)):\n",
    "        if [x > 0.6 for x in c][i] == True:\n",
    "    \n",
    "            \n",
    "            print(cols_in[i])\n",
    "    print(\"_______\")"
   ]
  },
  {
   "cell_type": "code",
   "execution_count": 72,
   "id": "chronic-outreach",
   "metadata": {
    "scrolled": true
   },
   "outputs": [
    {
     "name": "stdout",
     "output_type": "stream",
     "text": [
      "4\n",
      "[282699, 283012, 51069, 109452]\n",
      "28638226.772627972\n"
     ]
    }
   ],
   "source": [
    "summary = out.summary\n",
    "print(summary.k)\n",
    "print(summary.clusterSizes)\n",
    "print(summary.trainingCost)"
   ]
  },
  {
   "cell_type": "code",
   "execution_count": 73,
   "id": "weekly-viking",
   "metadata": {},
   "outputs": [
    {
     "name": "stdout",
     "output_type": "stream",
     "text": [
      "+----------+--------------+\n",
      "|prediction|min(placement)|\n",
      "+----------+--------------+\n",
      "|         1|             1|\n",
      "|         3|             1|\n",
      "|         2|             1|\n",
      "|         0|             1|\n",
      "+----------+--------------+\n",
      "\n"
     ]
    }
   ],
   "source": [
    "data_final.groupBy('prediction').min('placement').show()"
   ]
  },
  {
   "cell_type": "code",
   "execution_count": 74,
   "id": "separated-costa",
   "metadata": {},
   "outputs": [
    {
     "name": "stdout",
     "output_type": "stream",
     "text": [
      "+----------+-----------------+\n",
      "|prediction|   avg(placement)|\n",
      "+----------+-----------------+\n",
      "|         1|4.525408816587283|\n",
      "|         3| 4.59469904615722|\n",
      "|         2|4.637607942195853|\n",
      "|         0|4.413040017828149|\n",
      "+----------+-----------------+\n",
      "\n"
     ]
    }
   ],
   "source": [
    "data_final.groupBy('prediction').avg('placement').show()"
   ]
  },
  {
   "cell_type": "code",
   "execution_count": 75,
   "id": "tamil-modern",
   "metadata": {},
   "outputs": [
    {
     "name": "stdout",
     "output_type": "stream",
     "text": [
      "+----------+--------------+\n",
      "|prediction|max(placement)|\n",
      "+----------+--------------+\n",
      "|         1|             8|\n",
      "|         3|             8|\n",
      "|         2|             8|\n",
      "|         0|             8|\n",
      "+----------+--------------+\n",
      "\n"
     ]
    }
   ],
   "source": [
    "data_final.groupBy('prediction').max('placement').show()"
   ]
  },
  {
   "cell_type": "code",
   "execution_count": 76,
   "id": "herbal-digest",
   "metadata": {},
   "outputs": [
    {
     "name": "stdout",
     "output_type": "stream",
     "text": [
      "+----------+------+\n",
      "|prediction|median|\n",
      "+----------+------+\n",
      "|         1|     5|\n",
      "|         3|     5|\n",
      "|         2|     5|\n",
      "|         0|     4|\n",
      "+----------+------+\n",
      "\n"
     ]
    }
   ],
   "source": [
    "import pyspark.sql.functions as func    \n",
    "\n",
    "data_final.groupBy(\"prediction\").agg(func.percentile_approx(\"placement\", 0.5).alias(\"median\")).show()"
   ]
  }
 ],
 "metadata": {
  "kernelspec": {
   "display_name": "Python 3",
   "language": "python",
   "name": "python3"
  },
  "language_info": {
   "codemirror_mode": {
    "name": "ipython",
    "version": 3
   },
   "file_extension": ".py",
   "mimetype": "text/x-python",
   "name": "python",
   "nbconvert_exporter": "python",
   "pygments_lexer": "ipython3",
   "version": "3.8.10"
  }
 },
 "nbformat": 4,
 "nbformat_minor": 5
}
